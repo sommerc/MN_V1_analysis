{
 "cells": [
  {
   "cell_type": "code",
   "execution_count": 2,
   "id": "44b9aa27-6bc2-4f0a-b4ed-96dd085da474",
   "metadata": {},
   "outputs": [],
   "source": [
    "import os\n",
    "import pandas as pd\n",
    "\n",
    "import json"
   ]
  },
  {
   "cell_type": "code",
   "execution_count": 5,
   "id": "f84b6b55-51d1-498f-92f7-34999383d959",
   "metadata": {},
   "outputs": [
    {
     "name": "stdout",
     "output_type": "stream",
     "text": [
      "Z:/People/Chris/paper_videos/Juv/FoxP1 half/155_2023-01-17_11-16-02__FoxP1halfEn1half_Stg575859Juv_21.json okay\n",
      "Z:/People/Chris/paper_videos/Juv/FoxP1 half/155_2023-01-17_11-16-02__FoxP1halfEn1half_Stg575859Juv_21.json okay\n",
      "Z:/People/Chris/paper_videos/Juv/FoxP1 half/154_2023-01-10_12-46-03_En1halfFoxP1half_Stg6465Juv_24.json okay\n",
      "Z:/People/Chris/paper_videos/Juv/FoxP1 half/154_2023-01-10_11-46-00_En1halfFoxP1half_Stg6465Juv_14.json okay\n",
      "Z:/People/Chris/paper_videos/Juv/FoxP1 half/153_2023-01-09_14-31-05_FoxP1halfEn1half_Stg6465Juv_26.json okay\n",
      "Z:/People/Chris/paper_videos/Juv/FoxP1 half/153_2023-01-09_14-31-05_FoxP1halfEn1half_Stg6465Juv_25.json okay\n",
      "Z:/People/Chris/paper_videos/Juv/FoxP1 half/153_2023-01-09_14-31-05_FoxP1halfEn1half_Stg6465Juv_22.json okay\n",
      "Z:/People/Chris/paper_videos/Juv/FoxP1 half/153_2023-01-09_13-31-02_FoxP1halfEn1half_Stg6465Juv_16.json okay\n",
      "Z:/People/Chris/paper_videos/Juv/FoxP1 half/153_2023-01-09_13-31-02_FoxP1halfEn1half_Stg6465Juv_15.json okay\n",
      "Z:/People/Chris/paper_videos/Juv/FoxP1 half/153_2023-01-09_13-31-02_FoxP1halfEn1half_Stg6465Juv_12.json okay\n",
      "Z:/People/Chris/paper_videos/63-64/FoxP1 half/164_2023-01-27_15-16-02_HoxC9FoxP1halfWT_Stg646137_2_1.json okay\n",
      "Z:/People/Chris/paper_videos/63-64/FoxP1 half/150_2023-01-03_12-46-03_FoxP1half_Stg636465_2_3.json okay\n",
      "Z:/People/Chris/paper_videos/63-64/FoxP1 half/150_2023-01-03_11-46-00_FoxP1half_Stg636465_1_4.json okay\n",
      "Z:/People/Chris/paper_videos/63-64/FoxP1 half/150_2023-01-03_11-46-00_FoxP1half_Stg636465_1_3.json okay\n",
      "Z:/People/Chris/paper_videos/63-64/FoxP1 half/149_2022-12-30_16-46-02_FoxP1half_Stg626364_2_2.json okay\n",
      "Z:/People/Chris/paper_videos/63-64/FoxP1 half/149_2022-12-30_15-46-00_FoxP1half_Stg626364_1_2.json okay\n",
      "Z:/People/Chris/paper_videos/63-64/FoxP1 half/146_2022-12-20_10-46-17_En1halfFoxP1half_Stg6364_2_3.json okay\n",
      "Z:/People/Chris/paper_videos/63-64/FoxP1 half/146_2022-12-20_10-46-17_En1halfFoxP1half_Stg6364_2_1.json okay\n",
      "Z:/People/Chris/paper_videos/63-64/FoxP1 half/146_2022-12-19_13-01-00_En1halfFoxP1half_Stg6364_1_3.json okay\n",
      "Z:/People/Chris/paper_videos/63-64/FoxP1 half/146_2022-12-19_13-01-00_En1halfFoxP1half_Stg6364_1_1.json okay\n",
      "Z:/People/Chris/paper_videos/63-64/FoxP1 half/142_2022-12-15_14-46-03_FoxP1half_Stg6364_2_2.json okay\n",
      "Z:/People/Chris/paper_videos/63-64/FoxP1 half/142_2022-12-15_14-46-03_FoxP1half_Stg6364_2_1.json okay\n",
      "Z:/People/Chris/paper_videos/63-64/FoxP1 half/142_2022-12-15_13-46-00_FoxP1half_Stg6364_1_2.json okay\n",
      "Z:/People/Chris/paper_videos/63-64/FoxP1 half/142_2022-12-15_13-46-00_FoxP1half_Stg6364_1_1.json okay\n",
      "Z:/People/Chris/paper_videos/59-62/FoxP1 half/166_2023-01-31_16-31-03_FoxP1halfHoxC9half_Stg6252_2_1.json okay\n",
      "Z:/People/Chris/paper_videos/59-62/FoxP1 half/166_2023-01-31_15-31-00_FoxP1halfHoxC9half_Stg6252_1_1.json okay\n",
      "Z:/People/Chris/paper_videos/59-62/FoxP1 half/159_2023-01-20_14-01-02_FoxP1halfWT_Stg575862_23.json okay\n",
      "Z:/People/Chris/paper_videos/59-62/FoxP1 half/159_2023-01-20_13-01-00_FoxP1halfWT_Stg575862_13.json okay\n",
      "Z:/People/Chris/paper_videos/59-62/FoxP1 half/155_2023-01-17_11-16-02__FoxP1halfEn1half_Stg575859Juv_24.json okay\n",
      "Z:/People/Chris/paper_videos/59-62/FoxP1 half/155_2023-01-17_10-16-00_FoxP1halfEn1half_Stg575859Juv_14.json okay\n",
      "Z:/People/Chris/paper_videos/59-62/FoxP1 half/137_2022-12-05_13-31-02_FoxP1half_Stg59606163_26.json okay\n",
      "Z:/People/Chris/paper_videos/59-62/FoxP1 half/137_2022-12-05_12-31-00_FoxP1half_Stg59606163_16.json okay\n",
      "Z:/People/Chris/paper_videos/59-62/FoxP1 half/137_2022-12-05_12-31-00_FoxP1half_Stg59606163_13.json okay\n",
      "Z:/People/Chris/paper_videos/Juv/FoxP1 half/149_2022-12-30_15-46-00_FoxP1half_Stg626364_11.json okay\n",
      "Z:/People/Chris/paper_videos/Juv/FoxP1 half/149_2022-12-30_15-46-00_FoxP1half_Stg626364_14.json okay\n",
      "Z:/People/Chris/paper_videos/Juv/FoxP1 half/149_2022-12-30_16-46-02_FoxP1half_Stg626364_21.json okay\n",
      "Z:/People/Chris/paper_videos/Juv/FoxP1 half/149_2022-12-30_16-46-02_FoxP1half_Stg626364_24.json okay\n",
      "Z:/People/Chris/paper_videos/Juv/FoxP1 half/150_2023-01-03_11-46-00_FoxP1half_Stg636465_11.json okay\n",
      "Z:/People/Chris/paper_videos/Juv/FoxP1 half/150_2023-01-03_12-46-03_FoxP1half_Stg636465_21.json okay\n",
      "Z:/People/Chris/paper_videos/Juv/FoxP1 half/152_2023-01-05_13-16-00_En1half_Stg6466_12.json okay\n",
      "Z:/People/Chris/paper_videos/Juv/FoxP1 half/152_2023-01-05_14-16-02_En1half_Stg6466_22.json okay\n",
      "Writing Z:/People/Chris/paper_videos/Juv/En1 half Genotyped/220_2023-02-28 19-46-03_En1halfGEN_StgJuv_2_1.json\n",
      "Writing Z:/People/Chris/paper_videos/Juv/En1 half Genotyped/220_2023-02-28 19-46-03_En1halfGEN_StgJuv_2_2.json\n",
      "Writing Z:/People/Chris/paper_videos/Juv/En1 half Genotyped/220_2023-02-28 19-46-03_En1halfGEN_StgJuv_2_3.json\n",
      "Writing Z:/People/Chris/paper_videos/Juv/En1 half Genotyped/220_2023-02-28 19-46-03_En1halfGEN_StgJuv_2_4.json\n",
      "Writing Z:/People/Chris/paper_videos/Juv/En1 half Genotyped/220_2023-02-28 19-46-03_En1halfGEN_StgJuv_2_5.json\n",
      "Writing Z:/People/Chris/paper_videos/Juv/En1 half Genotyped/220_2023-02-28_18-46-00_En1halfGEN_StgJuv_1_1.json\n",
      "Writing Z:/People/Chris/paper_videos/Juv/En1 half Genotyped/220_2023-02-28_18-46-00_En1halfGEN_StgJuv_1_2.json\n",
      "Writing Z:/People/Chris/paper_videos/Juv/En1 half Genotyped/220_2023-02-28_18-46-00_En1halfGEN_StgJuv_1_3.json\n",
      "Writing Z:/People/Chris/paper_videos/Juv/En1 half Genotyped/220_2023-02-28_18-46-00_En1halfGEN_StgJuv_1_4.json\n",
      "Writing Z:/People/Chris/paper_videos/Juv/En1 half Genotyped/220_2023-02-28_18-46-00_En1halfGEN_StgJuv_1_5.json\n",
      "Writing Z:/People/Chris/paper_videos/Juv/En1 half Genotyped/222_2023-03-01_09-16-00_En1halfGEN_StgJuv_1_1.json\n",
      "Writing Z:/People/Chris/paper_videos/Juv/En1 half Genotyped/222_2023-03-01_10-16-03_En1halfGEN_StgJuv_2_1.json\n"
     ]
    }
   ],
   "source": [
    "ROOT = \"Z:/People/Chris/paper_videos\"\n",
    "\n",
    "tab = pd.read_csv(\"mutant_side.tab\", sep=\"\\t\")\n",
    "\n",
    "for i, row in tab.iterrows():\n",
    "    vid_fn = f\"{ROOT}/{row.Stage}/{row.Genotype}/{row.Video}.mp4\"\n",
    "    json_fn = f\"{ROOT}/{row.Stage}/{row.Genotype}/{row.Video}.json\"\n",
    "    \n",
    "    dictionary = {}\n",
    "    dictionary[\"mutant_side\"]  = row.Mutant_Side\n",
    "    \n",
    "\n",
    "    if not os.path.exists(json_fn):\n",
    "        if not os.path.exists(vid_fn):\n",
    "            print(f\"WARNING: video file '{vid_fn}' for json does not exist\")\n",
    "        with open(json_fn, \"w\") as outfile:\n",
    "            json.dump(dictionary, outfile)\n",
    "        print(f\"Writing {json_fn}\")\n",
    "        \n",
    "    else:\n",
    "        if not os.path.exists(vid_fn):\n",
    "            print(f\"WARNING: video file '{vid_fn}' for json does not exist\")\n",
    "        print(f\"{json_fn} okay\")\n",
    "        \n",
    "        \n",
    "    \n",
    "    \n",
    "    \n"
   ]
  },
  {
   "cell_type": "code",
   "execution_count": null,
   "id": "29f173bc-53b9-4172-a396-70c859ee892c",
   "metadata": {},
   "outputs": [],
   "source": []
  },
  {
   "cell_type": "code",
   "execution_count": null,
   "id": "66f2155e-37aa-46f9-9bef-3f8fbe69f05a",
   "metadata": {},
   "outputs": [],
   "source": []
  }
 ],
 "metadata": {
  "kernelspec": {
   "display_name": "Python 3 (ipykernel)",
   "language": "python",
   "name": "python3"
  },
  "language_info": {
   "codemirror_mode": {
    "name": "ipython",
    "version": 3
   },
   "file_extension": ".py",
   "mimetype": "text/x-python",
   "name": "python",
   "nbconvert_exporter": "python",
   "pygments_lexer": "ipython3",
   "version": "3.9.12"
  }
 },
 "nbformat": 4,
 "nbformat_minor": 5
}
