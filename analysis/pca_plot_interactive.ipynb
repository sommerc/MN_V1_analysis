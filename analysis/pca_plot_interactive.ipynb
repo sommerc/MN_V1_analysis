{
 "cells": [
  {
   "cell_type": "markdown",
   "id": "206c2331-3848-4f8b-b08d-d8b5092df1a6",
   "metadata": {},
   "source": [
    "# Interactive PCA plotting of Frog pose"
   ]
  },
  {
   "cell_type": "code",
   "execution_count": null,
   "id": "8caa2854-3f8f-4010-b93b-ec9b1e0efaa5",
   "metadata": {},
   "outputs": [],
   "source": [
    "import os\n",
    "import pathlib\n",
    "from collections import defaultdict\n",
    "\n",
    "import ipywidgets as widgets\n",
    "import matplotlib\n",
    "from shared import set_frog, settings, show_pca\n",
    "\n",
    "stg = None\n",
    "cfgs = None\n",
    "mov = None\n",
    "\n",
    "\n",
    "def set_stage(STAGES):\n",
    "    global stg\n",
    "    stg = None\n",
    "    drop_down_stg = widgets.Dropdown(\n",
    "        options=STAGES, description=\"Stage?\", disabled=False\n",
    "    )\n",
    "\n",
    "    def stage_handler(change):\n",
    "        global stg, cfgs\n",
    "        print(change.new)\n",
    "        stg = change.new  # This line isn't working\n",
    "        cfgs = cfg[stg]\n",
    "\n",
    "    drop_down_stg.observe(stage_handler, names=\"value\")\n",
    "    display(drop_down_stg)\n",
    "\n",
    "\n",
    "def set_movie(root):\n",
    "    global mov\n",
    "    mov = None\n",
    "\n",
    "    ROOT_DIR = pathlib.Path(root)\n",
    "\n",
    "    all_movs = list(ROOT_DIR.rglob(\"*.mp4\"))\n",
    "\n",
    "    drop_down_mov = widgets.Dropdown(\n",
    "        options=all_movs,\n",
    "        description=\"Movie?\",\n",
    "        disabled=False,\n",
    "        layout={\"width\": \"max-content\"},\n",
    "    )\n",
    "\n",
    "    def mov_handler(change):\n",
    "        global mov\n",
    "        print(change.new)\n",
    "        mov = change.new  # This line isn't working\n",
    "\n",
    "    drop_down_mov.observe(mov_handler, names=\"value\")\n",
    "    display(drop_down_mov)"
   ]
  },
  {
   "cell_type": "markdown",
   "id": "2f968555-dae3-493d-b84d-21919a909ccd",
   "metadata": {},
   "source": [
    "### 1 .Choose settings yaml file"
   ]
  },
  {
   "cell_type": "code",
   "execution_count": null,
   "id": "913efdb3-89d2-4698-823c-ab1e424975c0",
   "metadata": {},
   "outputs": [],
   "source": [
    "cfg = settings(\"../analysis_settings.template.yml\")"
   ]
  },
  {
   "cell_type": "markdown",
   "id": "87a12c91-a18b-408d-a500-ac213ed5634b",
   "metadata": {},
   "source": [
    "### 2. Choose stage"
   ]
  },
  {
   "cell_type": "code",
   "execution_count": null,
   "id": "72d55e2c-5257-49f5-836a-8daea3888c04",
   "metadata": {},
   "outputs": [],
   "source": [
    "set_stage(cfg[\"STAGES\"])"
   ]
  },
  {
   "cell_type": "markdown",
   "id": "8da7cb4b-8d5a-47e1-8b38-b9295252edb0",
   "metadata": {},
   "source": [
    "### 3. Choose movie"
   ]
  },
  {
   "cell_type": "code",
   "execution_count": null,
   "id": "e72e6d15-0c42-4fd5-ab38-e8c127b20bcf",
   "metadata": {},
   "outputs": [],
   "source": [
    "set_movie(cfgs[\"ROOT_DIR\"])"
   ]
  },
  {
   "cell_type": "markdown",
   "id": "5f65ebc8-357b-4d80-8492-4c188bc71518",
   "metadata": {},
   "source": [
    "### 4. Load SLEAP and align"
   ]
  },
  {
   "cell_type": "code",
   "execution_count": null,
   "id": "1f43c1ff-0e7b-4ea8-8362-375b421c483a",
   "metadata": {},
   "outputs": [],
   "source": [
    "frog = set_frog(mov, cfgs)"
   ]
  },
  {
   "cell_type": "markdown",
   "id": "8463bca9-6120-4d64-9c15-9dfd3b2e21ef",
   "metadata": {},
   "source": [
    "### 5. Choose your color preferences\n",
    "See [list of color names](https://matplotlib.org/stable/gallery/color/named_colors.html#css-colors)"
   ]
  },
  {
   "cell_type": "code",
   "execution_count": null,
   "id": "c8e9b112-e1eb-4e9d-98ce-c63c671e9bd4",
   "metadata": {},
   "outputs": [],
   "source": [
    "cmap_line = matplotlib.colors.LinearSegmentedColormap.from_list(\n",
    "    \"\", [\"black\", \"white\", \"black\"]\n",
    ")\n",
    "\n",
    "########################################\n",
    "# set to \"#00000000\" if not to show!\n",
    "\n",
    "cmap_dots = matplotlib.colors.ListedColormap(\n",
    "    [\n",
    "        \"red\",\n",
    "        \"#00000000\",\n",
    "        \"#00000000\",\n",
    "        \"blue\",\n",
    "        \"cyan\",\n",
    "        \"#00000000\",\n",
    "        \"green\",\n",
    "        \"#00000000\",\n",
    "        \"#00000000\",\n",
    "        \"yellow\",\n",
    "        \"#00000000\",\n",
    "        \"#00000000\",\n",
    "        \"purple\",\n",
    "        \"red\",\n",
    "        \"#00000000\",\n",
    "        \"#00000000\",\n",
    "        \"blue\",\n",
    "        \"cyan\",\n",
    "        \"#00000000\",\n",
    "        \"green\",\n",
    "        \"#00000000\",\n",
    "        \"#00000000\",\n",
    "        \"yellow\",\n",
    "        \"#00000000\",\n",
    "        \"#00000000\",\n",
    "        \"purple\"\n",
    "    ]\n",
    ")\n",
    "\n",
    "# cmap_line = cm.seismic\n",
    "# cmap_dots = cm.seismic\n",
    "\n",
    "\n",
    "print(\"Colormap for lines (color look-up for PC0)\")\n",
    "print(\"#\" * 120 + \"\\n\")\n",
    "display(cmap_line)\n",
    "\n",
    "print(\"\\n\" * 2)\n",
    "\n",
    "print(\"Colormap for dots (Tail_stem - Tail_tip)\")\n",
    "print(\"#\" * 120 + \"\\n\")\n",
    "\n",
    "display(cmap_dots)"
   ]
  },
  {
   "cell_type": "code",
   "execution_count": null,
   "id": "d79ce697-a388-421d-9f45-1f9c84c1e41d",
   "metadata": {},
   "outputs": [],
   "source": []
  },
  {
   "cell_type": "markdown",
   "id": "c97f49ad-72b6-4941-8b62-2b7347c32dd2",
   "metadata": {},
   "source": [
    "### 6. Plot"
   ]
  },
  {
   "cell_type": "code",
   "execution_count": null,
   "id": "be19b47f-dfe7-4813-b09d-02369c62005f",
   "metadata": {},
   "outputs": [],
   "source": [
    "show_pca(\n",
    "    cfgs,\n",
    "    frog,\n",
    "    parts_dict=cfgs[\"PCA_PARTS\"],\n",
    "    size_pca=cfg[\"PCA_FIT_ON_N\"],\n",
    "    size_plot=cfg[\"PCA_PLOT_N\"],\n",
    "    cmap_line=cmap_line,\n",
    "    cmap_dots=cmap_dots,\n",
    "    vmin=-5,\n",
    "    vmax=5,\n",
    "    alpha_dots=0.5,\n",
    "    alpha_line=0.5,\n",
    "    line_zorder=-33,\n",
    ")"
   ]
  },
  {
   "cell_type": "code",
   "execution_count": null,
   "id": "34cff04f-9cb2-48f7-8ac6-8fb0a3675cc7",
   "metadata": {},
   "outputs": [],
   "source": []
  },
  {
   "cell_type": "code",
   "execution_count": null,
   "id": "917ce7b2-5f6e-4579-9845-83eecccff963",
   "metadata": {},
   "outputs": [],
   "source": []
  }
 ],
 "metadata": {
  "kernelspec": {
   "display_name": "Python 3 (ipykernel)",
   "language": "python",
   "name": "python3"
  },
  "language_info": {
   "codemirror_mode": {
    "name": "ipython",
    "version": 3
   },
   "file_extension": ".py",
   "mimetype": "text/x-python",
   "name": "python",
   "nbconvert_exporter": "python",
   "pygments_lexer": "ipython3",
   "version": "3.12.4"
  }
 },
 "nbformat": 4,
 "nbformat_minor": 5
}
